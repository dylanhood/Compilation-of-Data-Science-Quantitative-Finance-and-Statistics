{
 "cells": [
  {
   "cell_type": "markdown",
   "id": "86c58478",
   "metadata": {},
   "source": [
    "# Calculating Stock Returns from scratch using Python"
   ]
  },
  {
   "cell_type": "markdown",
   "id": "5a966ed4",
   "metadata": {},
   "source": [
    "# The return on a stock $j$ is calculated as...\n",
    "$$r_j = \\frac{P_t}{P_{t-1}}-1$$\n",
    "\n",
    "Where: <br>\n",
    "$P_t = $ Price of stock $j$ at time $t$\n",
    "<br>\n",
    "$P_{t-1} = $ Price of stock $j$ at time $t-1$"
   ]
  },
  {
   "cell_type": "markdown",
   "id": "8900a1e3",
   "metadata": {},
   "source": [
    "## The Stock of Choice Will Be <br>\n",
    "# Virtu Financial, Inc. (VIRT)<br>\n",
    "## The data will come from Yahoo! Finance and will contain YTD information with the the last date being the current date, today (Friday, March 03, 2023)"
   ]
  },
  {
   "cell_type": "code",
   "execution_count": 65,
   "id": "ec6a34d0",
   "metadata": {},
   "outputs": [],
   "source": [
    "# Import package dependencies for this implementation\n",
    "import pandas as pd # used in this implementation for dealing with data\n",
    "import matplotlib.pyplot as plt # used in this implementation for plotting\n",
    "import seaborn as sns # used in this implementation for making plots look a little better\n",
    "sns.set() # used in this implementation for implementing Seaborn's style and themes"
   ]
  },
  {
   "cell_type": "code",
   "execution_count": 66,
   "id": "3ce8fbdf",
   "metadata": {
    "scrolled": false
   },
   "outputs": [],
   "source": [
    "# Loading Virtu Financial price data (Source: Yahoo! Finance)\n",
    "\n",
    "df = pd.read_csv(\"~\\Desktop\\Compilation of Data Science Quantitative Finance and Statistics\\Calculating Stock Returns\\data\\VIRT_Virtu_Financial,_Inc_from_Yahoo.csv\")\n",
    "\n",
    "# Note that using \"../\" changes the directory to the preceeding folder."
   ]
  },
  {
   "cell_type": "code",
   "execution_count": 67,
   "id": "b1cad6f9",
   "metadata": {
    "scrolled": true
   },
   "outputs": [
    {
     "data": {
      "text/html": [
       "<div>\n",
       "<style scoped>\n",
       "    .dataframe tbody tr th:only-of-type {\n",
       "        vertical-align: middle;\n",
       "    }\n",
       "\n",
       "    .dataframe tbody tr th {\n",
       "        vertical-align: top;\n",
       "    }\n",
       "\n",
       "    .dataframe thead th {\n",
       "        text-align: right;\n",
       "    }\n",
       "</style>\n",
       "<table border=\"1\" class=\"dataframe\">\n",
       "  <thead>\n",
       "    <tr style=\"text-align: right;\">\n",
       "      <th></th>\n",
       "      <th>Date</th>\n",
       "      <th>Open</th>\n",
       "      <th>High</th>\n",
       "      <th>Low</th>\n",
       "      <th>Close</th>\n",
       "      <th>Adj Close</th>\n",
       "      <th>Volume</th>\n",
       "    </tr>\n",
       "  </thead>\n",
       "  <tbody>\n",
       "    <tr>\n",
       "      <th>0</th>\n",
       "      <td>2023-01-03</td>\n",
       "      <td>20.500000</td>\n",
       "      <td>20.840000</td>\n",
       "      <td>20.450001</td>\n",
       "      <td>20.690001</td>\n",
       "      <td>20.427132</td>\n",
       "      <td>553900</td>\n",
       "    </tr>\n",
       "    <tr>\n",
       "      <th>1</th>\n",
       "      <td>2023-01-04</td>\n",
       "      <td>20.650000</td>\n",
       "      <td>21.070000</td>\n",
       "      <td>20.620001</td>\n",
       "      <td>20.959999</td>\n",
       "      <td>20.693699</td>\n",
       "      <td>873000</td>\n",
       "    </tr>\n",
       "    <tr>\n",
       "      <th>2</th>\n",
       "      <td>2023-01-05</td>\n",
       "      <td>20.830000</td>\n",
       "      <td>21.415001</td>\n",
       "      <td>20.830000</td>\n",
       "      <td>21.170000</td>\n",
       "      <td>20.901031</td>\n",
       "      <td>1019800</td>\n",
       "    </tr>\n",
       "    <tr>\n",
       "      <th>3</th>\n",
       "      <td>2023-01-06</td>\n",
       "      <td>21.120001</td>\n",
       "      <td>21.423000</td>\n",
       "      <td>20.389999</td>\n",
       "      <td>21.230000</td>\n",
       "      <td>20.960270</td>\n",
       "      <td>915400</td>\n",
       "    </tr>\n",
       "    <tr>\n",
       "      <th>4</th>\n",
       "      <td>2023-01-09</td>\n",
       "      <td>21.230000</td>\n",
       "      <td>21.639999</td>\n",
       "      <td>21.000000</td>\n",
       "      <td>21.299999</td>\n",
       "      <td>21.029379</td>\n",
       "      <td>733500</td>\n",
       "    </tr>\n",
       "  </tbody>\n",
       "</table>\n",
       "</div>"
      ],
      "text/plain": [
       "         Date       Open       High        Low      Close  Adj Close   Volume\n",
       "0  2023-01-03  20.500000  20.840000  20.450001  20.690001  20.427132   553900\n",
       "1  2023-01-04  20.650000  21.070000  20.620001  20.959999  20.693699   873000\n",
       "2  2023-01-05  20.830000  21.415001  20.830000  21.170000  20.901031  1019800\n",
       "3  2023-01-06  21.120001  21.423000  20.389999  21.230000  20.960270   915400\n",
       "4  2023-01-09  21.230000  21.639999  21.000000  21.299999  21.029379   733500"
      ]
     },
     "execution_count": 67,
     "metadata": {},
     "output_type": "execute_result"
    }
   ],
   "source": [
    "# df.head() is used for displaying the first 5 rows of the dataframe (as shown below).\n",
    "# You can use .head() to view data you're working/dealing with.\n",
    "df.head()"
   ]
  },
  {
   "cell_type": "code",
   "execution_count": 68,
   "id": "5e41cb3d",
   "metadata": {},
   "outputs": [],
   "source": [
    "#Extracting 'Date' and 'Adj Close' columns only\n",
    "df = df[['Date', 'Adj Close']]"
   ]
  },
  {
   "cell_type": "code",
   "execution_count": 69,
   "id": "7e6c100c",
   "metadata": {},
   "outputs": [],
   "source": [
    "# Why rename columns?\n",
    "# Using the PEP8 name conventions and styles when writing code is said to be good practice.\n",
    "# This may be intended to make code more easily readable by others (and, possibly, you in the future)\n",
    "\n",
    "#PEP8 standards can be found at this link: https://peps.python.org/pep-0008/\n",
    "\n",
    "df.rename(columns={'Date': 'date', 'Adj Close' : 'price_t'}, inplace=True)"
   ]
  },
  {
   "cell_type": "code",
   "execution_count": 70,
   "id": "9d79a59e",
   "metadata": {
    "scrolled": true
   },
   "outputs": [
    {
     "data": {
      "text/html": [
       "<div>\n",
       "<style scoped>\n",
       "    .dataframe tbody tr th:only-of-type {\n",
       "        vertical-align: middle;\n",
       "    }\n",
       "\n",
       "    .dataframe tbody tr th {\n",
       "        vertical-align: top;\n",
       "    }\n",
       "\n",
       "    .dataframe thead th {\n",
       "        text-align: right;\n",
       "    }\n",
       "</style>\n",
       "<table border=\"1\" class=\"dataframe\">\n",
       "  <thead>\n",
       "    <tr style=\"text-align: right;\">\n",
       "      <th></th>\n",
       "      <th>date</th>\n",
       "      <th>price_t</th>\n",
       "    </tr>\n",
       "  </thead>\n",
       "  <tbody>\n",
       "    <tr>\n",
       "      <th>0</th>\n",
       "      <td>2023-01-03</td>\n",
       "      <td>20.427132</td>\n",
       "    </tr>\n",
       "    <tr>\n",
       "      <th>1</th>\n",
       "      <td>2023-01-04</td>\n",
       "      <td>20.693699</td>\n",
       "    </tr>\n",
       "    <tr>\n",
       "      <th>2</th>\n",
       "      <td>2023-01-05</td>\n",
       "      <td>20.901031</td>\n",
       "    </tr>\n",
       "    <tr>\n",
       "      <th>3</th>\n",
       "      <td>2023-01-06</td>\n",
       "      <td>20.960270</td>\n",
       "    </tr>\n",
       "    <tr>\n",
       "      <th>4</th>\n",
       "      <td>2023-01-09</td>\n",
       "      <td>21.029379</td>\n",
       "    </tr>\n",
       "  </tbody>\n",
       "</table>\n",
       "</div>"
      ],
      "text/plain": [
       "         date    price_t\n",
       "0  2023-01-03  20.427132\n",
       "1  2023-01-04  20.693699\n",
       "2  2023-01-05  20.901031\n",
       "3  2023-01-06  20.960270\n",
       "4  2023-01-09  21.029379"
      ]
     },
     "execution_count": 70,
     "metadata": {},
     "output_type": "execute_result"
    }
   ],
   "source": [
    "df.head()"
   ]
  },
  {
   "cell_type": "code",
   "execution_count": 71,
   "id": "7b977265",
   "metadata": {
    "scrolled": true
   },
   "outputs": [],
   "source": [
    "df['price_t-1'] = df['price_t'].shift(1)"
   ]
  },
  {
   "cell_type": "code",
   "execution_count": 72,
   "id": "24ddde4e",
   "metadata": {},
   "outputs": [
    {
     "data": {
      "text/html": [
       "<div>\n",
       "<style scoped>\n",
       "    .dataframe tbody tr th:only-of-type {\n",
       "        vertical-align: middle;\n",
       "    }\n",
       "\n",
       "    .dataframe tbody tr th {\n",
       "        vertical-align: top;\n",
       "    }\n",
       "\n",
       "    .dataframe thead th {\n",
       "        text-align: right;\n",
       "    }\n",
       "</style>\n",
       "<table border=\"1\" class=\"dataframe\">\n",
       "  <thead>\n",
       "    <tr style=\"text-align: right;\">\n",
       "      <th></th>\n",
       "      <th>date</th>\n",
       "      <th>price_t</th>\n",
       "      <th>price_t-1</th>\n",
       "    </tr>\n",
       "  </thead>\n",
       "  <tbody>\n",
       "    <tr>\n",
       "      <th>0</th>\n",
       "      <td>2023-01-03</td>\n",
       "      <td>20.427132</td>\n",
       "      <td>NaN</td>\n",
       "    </tr>\n",
       "    <tr>\n",
       "      <th>1</th>\n",
       "      <td>2023-01-04</td>\n",
       "      <td>20.693699</td>\n",
       "      <td>20.427132</td>\n",
       "    </tr>\n",
       "    <tr>\n",
       "      <th>2</th>\n",
       "      <td>2023-01-05</td>\n",
       "      <td>20.901031</td>\n",
       "      <td>20.693699</td>\n",
       "    </tr>\n",
       "    <tr>\n",
       "      <th>3</th>\n",
       "      <td>2023-01-06</td>\n",
       "      <td>20.960270</td>\n",
       "      <td>20.901031</td>\n",
       "    </tr>\n",
       "    <tr>\n",
       "      <th>4</th>\n",
       "      <td>2023-01-09</td>\n",
       "      <td>21.029379</td>\n",
       "      <td>20.960270</td>\n",
       "    </tr>\n",
       "  </tbody>\n",
       "</table>\n",
       "</div>"
      ],
      "text/plain": [
       "         date    price_t  price_t-1\n",
       "0  2023-01-03  20.427132        NaN\n",
       "1  2023-01-04  20.693699  20.427132\n",
       "2  2023-01-05  20.901031  20.693699\n",
       "3  2023-01-06  20.960270  20.901031\n",
       "4  2023-01-09  21.029379  20.960270"
      ]
     },
     "execution_count": 72,
     "metadata": {},
     "output_type": "execute_result"
    }
   ],
   "source": [
    "df.head()"
   ]
  },
  {
   "cell_type": "code",
   "execution_count": 73,
   "id": "9906fbe6",
   "metadata": {},
   "outputs": [],
   "source": [
    "# Calculate returns using the formula ((P_t / P_t-1) - 1)\n",
    "df['returns_manual'] = (df['price_t'] / df['price_t-1']) - 1"
   ]
  },
  {
   "cell_type": "code",
   "execution_count": 74,
   "id": "1c5d7bb8",
   "metadata": {},
   "outputs": [
    {
     "data": {
      "text/html": [
       "<div>\n",
       "<style scoped>\n",
       "    .dataframe tbody tr th:only-of-type {\n",
       "        vertical-align: middle;\n",
       "    }\n",
       "\n",
       "    .dataframe tbody tr th {\n",
       "        vertical-align: top;\n",
       "    }\n",
       "\n",
       "    .dataframe thead th {\n",
       "        text-align: right;\n",
       "    }\n",
       "</style>\n",
       "<table border=\"1\" class=\"dataframe\">\n",
       "  <thead>\n",
       "    <tr style=\"text-align: right;\">\n",
       "      <th></th>\n",
       "      <th>date</th>\n",
       "      <th>price_t</th>\n",
       "      <th>price_t-1</th>\n",
       "      <th>returns_manual</th>\n",
       "    </tr>\n",
       "  </thead>\n",
       "  <tbody>\n",
       "    <tr>\n",
       "      <th>0</th>\n",
       "      <td>2023-01-03</td>\n",
       "      <td>20.427132</td>\n",
       "      <td>NaN</td>\n",
       "      <td>NaN</td>\n",
       "    </tr>\n",
       "    <tr>\n",
       "      <th>1</th>\n",
       "      <td>2023-01-04</td>\n",
       "      <td>20.693699</td>\n",
       "      <td>20.427132</td>\n",
       "      <td>0.013050</td>\n",
       "    </tr>\n",
       "    <tr>\n",
       "      <th>2</th>\n",
       "      <td>2023-01-05</td>\n",
       "      <td>20.901031</td>\n",
       "      <td>20.693699</td>\n",
       "      <td>0.010019</td>\n",
       "    </tr>\n",
       "    <tr>\n",
       "      <th>3</th>\n",
       "      <td>2023-01-06</td>\n",
       "      <td>20.960270</td>\n",
       "      <td>20.901031</td>\n",
       "      <td>0.002834</td>\n",
       "    </tr>\n",
       "    <tr>\n",
       "      <th>4</th>\n",
       "      <td>2023-01-09</td>\n",
       "      <td>21.029379</td>\n",
       "      <td>20.960270</td>\n",
       "      <td>0.003297</td>\n",
       "    </tr>\n",
       "  </tbody>\n",
       "</table>\n",
       "</div>"
      ],
      "text/plain": [
       "         date    price_t  price_t-1  returns_manual\n",
       "0  2023-01-03  20.427132        NaN             NaN\n",
       "1  2023-01-04  20.693699  20.427132        0.013050\n",
       "2  2023-01-05  20.901031  20.693699        0.010019\n",
       "3  2023-01-06  20.960270  20.901031        0.002834\n",
       "4  2023-01-09  21.029379  20.960270        0.003297"
      ]
     },
     "execution_count": 74,
     "metadata": {},
     "output_type": "execute_result"
    }
   ],
   "source": [
    "df.head()"
   ]
  },
  {
   "cell_type": "code",
   "execution_count": 75,
   "id": "abb4aa0f",
   "metadata": {
    "scrolled": true
   },
   "outputs": [
    {
     "data": {
      "text/html": [
       "<div>\n",
       "<style scoped>\n",
       "    .dataframe tbody tr th:only-of-type {\n",
       "        vertical-align: middle;\n",
       "    }\n",
       "\n",
       "    .dataframe tbody tr th {\n",
       "        vertical-align: top;\n",
       "    }\n",
       "\n",
       "    .dataframe thead th {\n",
       "        text-align: right;\n",
       "    }\n",
       "</style>\n",
       "<table border=\"1\" class=\"dataframe\">\n",
       "  <thead>\n",
       "    <tr style=\"text-align: right;\">\n",
       "      <th></th>\n",
       "      <th>date</th>\n",
       "      <th>price_t</th>\n",
       "      <th>price_t-1</th>\n",
       "      <th>returns_manual</th>\n",
       "    </tr>\n",
       "  </thead>\n",
       "  <tbody>\n",
       "    <tr>\n",
       "      <th>36</th>\n",
       "      <td>2023-02-24</td>\n",
       "      <td>18.886950</td>\n",
       "      <td>18.738855</td>\n",
       "      <td>0.007903</td>\n",
       "    </tr>\n",
       "    <tr>\n",
       "      <th>37</th>\n",
       "      <td>2023-02-27</td>\n",
       "      <td>18.650000</td>\n",
       "      <td>18.886950</td>\n",
       "      <td>-0.012546</td>\n",
       "    </tr>\n",
       "    <tr>\n",
       "      <th>38</th>\n",
       "      <td>2023-02-28</td>\n",
       "      <td>18.379999</td>\n",
       "      <td>18.650000</td>\n",
       "      <td>-0.014477</td>\n",
       "    </tr>\n",
       "    <tr>\n",
       "      <th>39</th>\n",
       "      <td>2023-03-01</td>\n",
       "      <td>18.490000</td>\n",
       "      <td>18.379999</td>\n",
       "      <td>0.005985</td>\n",
       "    </tr>\n",
       "    <tr>\n",
       "      <th>40</th>\n",
       "      <td>2023-03-02</td>\n",
       "      <td>18.410000</td>\n",
       "      <td>18.490000</td>\n",
       "      <td>-0.004327</td>\n",
       "    </tr>\n",
       "  </tbody>\n",
       "</table>\n",
       "</div>"
      ],
      "text/plain": [
       "          date    price_t  price_t-1  returns_manual\n",
       "36  2023-02-24  18.886950  18.738855        0.007903\n",
       "37  2023-02-27  18.650000  18.886950       -0.012546\n",
       "38  2023-02-28  18.379999  18.650000       -0.014477\n",
       "39  2023-03-01  18.490000  18.379999        0.005985\n",
       "40  2023-03-02  18.410000  18.490000       -0.004327"
      ]
     },
     "execution_count": 75,
     "metadata": {},
     "output_type": "execute_result"
    }
   ],
   "source": [
    "df.tail()"
   ]
  },
  {
   "cell_type": "code",
   "execution_count": 76,
   "id": "a8a2a13b",
   "metadata": {},
   "outputs": [],
   "source": [
    "# Calculating the returns using the pct_change() methad\n",
    "df['returns_pct_change_method'] = df['price_t'].pct_change(1)"
   ]
  },
  {
   "cell_type": "code",
   "execution_count": 77,
   "id": "291948fd",
   "metadata": {
    "scrolled": true
   },
   "outputs": [
    {
     "data": {
      "text/html": [
       "<div>\n",
       "<style scoped>\n",
       "    .dataframe tbody tr th:only-of-type {\n",
       "        vertical-align: middle;\n",
       "    }\n",
       "\n",
       "    .dataframe tbody tr th {\n",
       "        vertical-align: top;\n",
       "    }\n",
       "\n",
       "    .dataframe thead th {\n",
       "        text-align: right;\n",
       "    }\n",
       "</style>\n",
       "<table border=\"1\" class=\"dataframe\">\n",
       "  <thead>\n",
       "    <tr style=\"text-align: right;\">\n",
       "      <th></th>\n",
       "      <th>date</th>\n",
       "      <th>price_t</th>\n",
       "      <th>price_t-1</th>\n",
       "      <th>returns_manual</th>\n",
       "      <th>returns_pct_change_method</th>\n",
       "    </tr>\n",
       "  </thead>\n",
       "  <tbody>\n",
       "    <tr>\n",
       "      <th>0</th>\n",
       "      <td>2023-01-03</td>\n",
       "      <td>20.427132</td>\n",
       "      <td>NaN</td>\n",
       "      <td>NaN</td>\n",
       "      <td>NaN</td>\n",
       "    </tr>\n",
       "    <tr>\n",
       "      <th>1</th>\n",
       "      <td>2023-01-04</td>\n",
       "      <td>20.693699</td>\n",
       "      <td>20.427132</td>\n",
       "      <td>0.013050</td>\n",
       "      <td>0.013050</td>\n",
       "    </tr>\n",
       "    <tr>\n",
       "      <th>2</th>\n",
       "      <td>2023-01-05</td>\n",
       "      <td>20.901031</td>\n",
       "      <td>20.693699</td>\n",
       "      <td>0.010019</td>\n",
       "      <td>0.010019</td>\n",
       "    </tr>\n",
       "    <tr>\n",
       "      <th>3</th>\n",
       "      <td>2023-01-06</td>\n",
       "      <td>20.960270</td>\n",
       "      <td>20.901031</td>\n",
       "      <td>0.002834</td>\n",
       "      <td>0.002834</td>\n",
       "    </tr>\n",
       "    <tr>\n",
       "      <th>4</th>\n",
       "      <td>2023-01-09</td>\n",
       "      <td>21.029379</td>\n",
       "      <td>20.960270</td>\n",
       "      <td>0.003297</td>\n",
       "      <td>0.003297</td>\n",
       "    </tr>\n",
       "  </tbody>\n",
       "</table>\n",
       "</div>"
      ],
      "text/plain": [
       "         date    price_t  price_t-1  returns_manual  returns_pct_change_method\n",
       "0  2023-01-03  20.427132        NaN             NaN                        NaN\n",
       "1  2023-01-04  20.693699  20.427132        0.013050                   0.013050\n",
       "2  2023-01-05  20.901031  20.693699        0.010019                   0.010019\n",
       "3  2023-01-06  20.960270  20.901031        0.002834                   0.002834\n",
       "4  2023-01-09  21.029379  20.960270        0.003297                   0.003297"
      ]
     },
     "execution_count": 77,
     "metadata": {},
     "output_type": "execute_result"
    }
   ],
   "source": [
    "df.head()"
   ]
  },
  {
   "cell_type": "code",
   "execution_count": 78,
   "id": "47d70263",
   "metadata": {},
   "outputs": [],
   "source": [
    "# Now \"manually\" calculate the returns, without using a separate column for price_t-1\n",
    "df['returns'] = (df['price_t'] / df['price_t'].shift(1)) - 1"
   ]
  },
  {
   "cell_type": "code",
   "execution_count": 79,
   "id": "4d0528f9",
   "metadata": {},
   "outputs": [
    {
     "data": {
      "text/html": [
       "<div>\n",
       "<style scoped>\n",
       "    .dataframe tbody tr th:only-of-type {\n",
       "        vertical-align: middle;\n",
       "    }\n",
       "\n",
       "    .dataframe tbody tr th {\n",
       "        vertical-align: top;\n",
       "    }\n",
       "\n",
       "    .dataframe thead th {\n",
       "        text-align: right;\n",
       "    }\n",
       "</style>\n",
       "<table border=\"1\" class=\"dataframe\">\n",
       "  <thead>\n",
       "    <tr style=\"text-align: right;\">\n",
       "      <th></th>\n",
       "      <th>date</th>\n",
       "      <th>price_t</th>\n",
       "      <th>price_t-1</th>\n",
       "      <th>returns_manual</th>\n",
       "      <th>returns_pct_change_method</th>\n",
       "      <th>returns</th>\n",
       "    </tr>\n",
       "  </thead>\n",
       "  <tbody>\n",
       "    <tr>\n",
       "      <th>0</th>\n",
       "      <td>2023-01-03</td>\n",
       "      <td>20.427132</td>\n",
       "      <td>NaN</td>\n",
       "      <td>NaN</td>\n",
       "      <td>NaN</td>\n",
       "      <td>NaN</td>\n",
       "    </tr>\n",
       "    <tr>\n",
       "      <th>1</th>\n",
       "      <td>2023-01-04</td>\n",
       "      <td>20.693699</td>\n",
       "      <td>20.427132</td>\n",
       "      <td>0.013050</td>\n",
       "      <td>0.013050</td>\n",
       "      <td>0.013050</td>\n",
       "    </tr>\n",
       "    <tr>\n",
       "      <th>2</th>\n",
       "      <td>2023-01-05</td>\n",
       "      <td>20.901031</td>\n",
       "      <td>20.693699</td>\n",
       "      <td>0.010019</td>\n",
       "      <td>0.010019</td>\n",
       "      <td>0.010019</td>\n",
       "    </tr>\n",
       "    <tr>\n",
       "      <th>3</th>\n",
       "      <td>2023-01-06</td>\n",
       "      <td>20.960270</td>\n",
       "      <td>20.901031</td>\n",
       "      <td>0.002834</td>\n",
       "      <td>0.002834</td>\n",
       "      <td>0.002834</td>\n",
       "    </tr>\n",
       "    <tr>\n",
       "      <th>4</th>\n",
       "      <td>2023-01-09</td>\n",
       "      <td>21.029379</td>\n",
       "      <td>20.960270</td>\n",
       "      <td>0.003297</td>\n",
       "      <td>0.003297</td>\n",
       "      <td>0.003297</td>\n",
       "    </tr>\n",
       "  </tbody>\n",
       "</table>\n",
       "</div>"
      ],
      "text/plain": [
       "         date    price_t  price_t-1  returns_manual  \\\n",
       "0  2023-01-03  20.427132        NaN             NaN   \n",
       "1  2023-01-04  20.693699  20.427132        0.013050   \n",
       "2  2023-01-05  20.901031  20.693699        0.010019   \n",
       "3  2023-01-06  20.960270  20.901031        0.002834   \n",
       "4  2023-01-09  21.029379  20.960270        0.003297   \n",
       "\n",
       "   returns_pct_change_method   returns  \n",
       "0                        NaN       NaN  \n",
       "1                   0.013050  0.013050  \n",
       "2                   0.010019  0.010019  \n",
       "3                   0.002834  0.002834  \n",
       "4                   0.003297  0.003297  "
      ]
     },
     "execution_count": 79,
     "metadata": {},
     "output_type": "execute_result"
    }
   ],
   "source": [
    "df.head()"
   ]
  },
  {
   "cell_type": "code",
   "execution_count": 80,
   "id": "31726349",
   "metadata": {},
   "outputs": [],
   "source": [
    "# Setting 'date' column as the index to help in ensuring dates show up in the plot.\n",
    "df.set_index('date', inplace=True)"
   ]
  },
  {
   "cell_type": "code",
   "execution_count": 81,
   "id": "4a4444c7",
   "metadata": {},
   "outputs": [
    {
     "data": {
      "text/html": [
       "<div>\n",
       "<style scoped>\n",
       "    .dataframe tbody tr th:only-of-type {\n",
       "        vertical-align: middle;\n",
       "    }\n",
       "\n",
       "    .dataframe tbody tr th {\n",
       "        vertical-align: top;\n",
       "    }\n",
       "\n",
       "    .dataframe thead th {\n",
       "        text-align: right;\n",
       "    }\n",
       "</style>\n",
       "<table border=\"1\" class=\"dataframe\">\n",
       "  <thead>\n",
       "    <tr style=\"text-align: right;\">\n",
       "      <th></th>\n",
       "      <th>price_t</th>\n",
       "      <th>price_t-1</th>\n",
       "      <th>returns_manual</th>\n",
       "      <th>returns_pct_change_method</th>\n",
       "      <th>returns</th>\n",
       "    </tr>\n",
       "    <tr>\n",
       "      <th>date</th>\n",
       "      <th></th>\n",
       "      <th></th>\n",
       "      <th></th>\n",
       "      <th></th>\n",
       "      <th></th>\n",
       "    </tr>\n",
       "  </thead>\n",
       "  <tbody>\n",
       "    <tr>\n",
       "      <th>2023-01-03</th>\n",
       "      <td>20.427132</td>\n",
       "      <td>NaN</td>\n",
       "      <td>NaN</td>\n",
       "      <td>NaN</td>\n",
       "      <td>NaN</td>\n",
       "    </tr>\n",
       "    <tr>\n",
       "      <th>2023-01-04</th>\n",
       "      <td>20.693699</td>\n",
       "      <td>20.427132</td>\n",
       "      <td>0.013050</td>\n",
       "      <td>0.013050</td>\n",
       "      <td>0.013050</td>\n",
       "    </tr>\n",
       "    <tr>\n",
       "      <th>2023-01-05</th>\n",
       "      <td>20.901031</td>\n",
       "      <td>20.693699</td>\n",
       "      <td>0.010019</td>\n",
       "      <td>0.010019</td>\n",
       "      <td>0.010019</td>\n",
       "    </tr>\n",
       "    <tr>\n",
       "      <th>2023-01-06</th>\n",
       "      <td>20.960270</td>\n",
       "      <td>20.901031</td>\n",
       "      <td>0.002834</td>\n",
       "      <td>0.002834</td>\n",
       "      <td>0.002834</td>\n",
       "    </tr>\n",
       "    <tr>\n",
       "      <th>2023-01-09</th>\n",
       "      <td>21.029379</td>\n",
       "      <td>20.960270</td>\n",
       "      <td>0.003297</td>\n",
       "      <td>0.003297</td>\n",
       "      <td>0.003297</td>\n",
       "    </tr>\n",
       "  </tbody>\n",
       "</table>\n",
       "</div>"
      ],
      "text/plain": [
       "              price_t  price_t-1  returns_manual  returns_pct_change_method  \\\n",
       "date                                                                          \n",
       "2023-01-03  20.427132        NaN             NaN                        NaN   \n",
       "2023-01-04  20.693699  20.427132        0.013050                   0.013050   \n",
       "2023-01-05  20.901031  20.693699        0.010019                   0.010019   \n",
       "2023-01-06  20.960270  20.901031        0.002834                   0.002834   \n",
       "2023-01-09  21.029379  20.960270        0.003297                   0.003297   \n",
       "\n",
       "             returns  \n",
       "date                  \n",
       "2023-01-03       NaN  \n",
       "2023-01-04  0.013050  \n",
       "2023-01-05  0.010019  \n",
       "2023-01-06  0.002834  \n",
       "2023-01-09  0.003297  "
      ]
     },
     "execution_count": 81,
     "metadata": {},
     "output_type": "execute_result"
    }
   ],
   "source": [
    "df.head()"
   ]
  },
  {
   "cell_type": "code",
   "execution_count": 82,
   "id": "f41b4aad",
   "metadata": {},
   "outputs": [
    {
     "data": {
      "text/plain": [
       "<AxesSubplot:xlabel='date'>"
      ]
     },
     "execution_count": 82,
     "metadata": {},
     "output_type": "execute_result"
    },
    {
     "data": {
      "image/png": "[encoded data removed]",
      "text/plain": [
       "<Figure size 864x576 with 1 Axes>"
      ]
     },
     "metadata": {},
     "output_type": "display_data"
    }
   ],
   "source": [
    "df['price_t'].plot(figsize=(12, 8))"
   ]
  },
  {
   "cell_type": "code",
   "execution_count": 83,
   "id": "ba6aeef1",
   "metadata": {
    "scrolled": true
   },
   "outputs": [
    {
     "data": {
      "text/plain": [
       "<AxesSubplot:xlabel='date'>"
      ]
     },
     "execution_count": 83,
     "metadata": {},
     "output_type": "execute_result"
    },
    {
     "data": {
      "image/png": "[encoded data removed]",
      "text/plain": [
       "<Figure size 864x576 with 1 Axes>"
      ]
     },
     "metadata": {},
     "output_type": "display_data"
    }
   ],
   "source": [
    "# Plotting Virtu Financial's Returns data\n",
    "df['returns'].plot(figsize=(12, 8))"
   ]
  }
 ],
 "metadata": {
  "kernelspec": {
   "display_name": "Python 3 (ipykernel)",
   "language": "python",
   "name": "python3"
  },
  "language_info": {
   "codemirror_mode": {
    "name": "ipython",
    "version": 3
   },
   "file_extension": ".py",
   "mimetype": "text/x-python",
   "name": "python",
   "nbconvert_exporter": "python",
   "pygments_lexer": "ipython3",
   "version": "3.9.12"
  }
 },
 "nbformat": 4,
 "nbformat_minor": 5
}
